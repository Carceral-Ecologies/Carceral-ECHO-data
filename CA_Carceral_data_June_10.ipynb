{
 "cells": [
  {
   "cell_type": "markdown",
   "metadata": {},
   "source": [
    "## Run these first three cells to get external code needed by the spreadsheet and import Python modules"
   ]
  },
  {
   "cell_type": "code",
   "execution_count": null,
   "metadata": {},
   "outputs": [],
   "source": [
    "!git clone https://github.com/edgi-govdata-archiving/ECHO-modules.git"
   ]
  },
  {
   "cell_type": "code",
   "execution_count": null,
   "metadata": {},
   "outputs": [],
   "source": [
    "%run ECHO-modules/DataSet.py"
   ]
  },
  {
   "cell_type": "code",
   "execution_count": null,
   "metadata": {
    "colab": {},
    "colab_type": "code",
    "id": "LBanclTxfhFk"
   },
   "outputs": [],
   "source": [
    "# Import libraries\n",
    "import pandas as pd\n",
    "import numpy as np\n",
    "import matplotlib.pyplot as plt\n",
    "%matplotlib inline\n",
    "import folium\n",
    "\n",
    "from ipywidgets import interact, interactive, fixed, interact_manual, Layout\n",
    "import ipywidgets as widgets\n",
    "\n",
    "from IPython.display import display\n"
   ]
  },
  {
   "cell_type": "markdown",
   "metadata": {},
   "source": [
    "## Run this cell.  It reads the CSV file of prisons and provides a dropdown list to choose from"
   ]
  },
  {
   "cell_type": "code",
   "execution_count": null,
   "metadata": {},
   "outputs": [],
   "source": [
    "# Import FRS IDs from california prisons \n",
    "df = pd.read_csv('reformatted_ca_validated.csv')\n",
    "\n",
    "prison_dict = {}\n",
    "for idx, row in df.iterrows():\n",
    "    name = row['NAME']\n",
    "    frs_id = row['Total_FRS_IDS']\n",
    "    if ( name in prison_dict ):\n",
    "        prison_dict[ name ].append( frs_id )\n",
    "    else:\n",
    "        prison_dict[ name ] = [ frs_id ]\n",
    "\n",
    "prison_widget = widgets.Select(\n",
    "    options=list( prison_dict.keys() ),\n",
    "    description='Prison:',\n",
    "    layout=Layout(width='70%', height='80px'),\n",
    "    disabled=False\n",
    ")\n",
    "display( prison_widget )"
   ]
  },
  {
   "cell_type": "markdown",
   "metadata": {},
   "source": [
    "## This cell will query the Stonybrook database for ECHO_EXPORTER facility information for the selected prison"
   ]
  },
  {
   "cell_type": "code",
   "execution_count": null,
   "metadata": {
    "scrolled": true
   },
   "outputs": [],
   "source": [
    "prison_name = prison_widget.value\n",
    "prison_ids = prison_dict[ prison_name ]\n",
    "\n",
    "echo_ds = DataSet( name='ECHO Exporter', idx_field='REGISTRY_ID', \n",
    "                table_name='ECHO_EXPORTER', echo_type=None,\n",
    "                date_field=None, date_format=None)\n",
    "echo_data = echo_ds.get_data( ee_ids=prison_ids )\n",
    "echo_data"
   ]
  },
  {
   "cell_type": "markdown",
   "metadata": {},
   "source": [
    "## Show the facilities on a map"
   ]
  },
  {
   "cell_type": "code",
   "execution_count": null,
   "metadata": {},
   "outputs": [],
   "source": [
    "# Let's show a quick map of your area and the facilities in it\n",
    "# To-do:  Add some more ECHO_EXPORTER information in the markers.\n",
    "\n",
    "# Put some information with the marker to show the programs that track the facility.\n",
    "def marker_text( row ):\n",
    "    text = \"\"\n",
    "    if ( type( row['FAC_NAME'] == str )) :\n",
    "        try:\n",
    "            text = row[\"FAC_NAME\"] + ' - '\n",
    "        except TypeError:\n",
    "            print( \"A facility was found without name. \")\n",
    "        if ( row['AIR_FLAG'] == 'Y' ):\n",
    "            text += 'CAA, ' \n",
    "        if ( row['NPDES_FLAG'] == 'Y' ):\n",
    "            text += 'CWA, ' \n",
    "        if ( row['SDWIS_FLAG'] == 'Y' ):\n",
    "            text += 'SDWIS, ' \n",
    "        if ( row['RCRA_FLAG'] == 'Y' ):\n",
    "            text += 'RCRA, ' \n",
    "        if ( row['TRI_FLAG'] == 'Y' ):\n",
    "            text += 'TRI, ' \n",
    "        if ( row['GHG_FLAG'] == 'Y' ):\n",
    "            text += 'GHG, ' \n",
    "    return text\n",
    "    \n",
    "def mapper(df):\n",
    "    # Initialize the map\n",
    "    center = [df.mean()[\"FAC_LAT\"], df.mean()[\"FAC_LONG\"]]\n",
    "    m = folium.Map(\n",
    "        location = center,\n",
    "    )\n",
    "\n",
    "    # Add a clickable marker for each facility\n",
    "    i = 0\n",
    "    for index, row in df.iterrows():\n",
    "        # Make sure the FAC_NAME is not NaN, which is interpreted as a number.\n",
    "        if ( type( row['FAC_NAME'] == str )) :\n",
    "            folium.Marker(\n",
    "                location = [row[\"FAC_LAT\"], row[\"FAC_LONG\"]],\n",
    "                popup = marker_text( row )).add_to(m)\n",
    "            i += 1\n",
    "        if ( i > 400 ):    # The map won't display with too many markers.\n",
    "            break\n",
    "            \n",
    "    bounds = m.get_bounds()\n",
    "    m.fit_bounds(bounds)\n",
    "    \n",
    "    # Show the map\n",
    "    return m\n",
    "\n",
    "df_to_map = echo_data\n",
    "if ( len(df_to_map) > 400 ):\n",
    "    df_to_map = echo_data[echo_data[\"FAC_QTRS_WITH_NC\"] > 0].sort_values(by=\"FAC_QTRS_WITH_NC\", ascending=False)\n",
    "    \n",
    "map_of_facilities = mapper(df_to_map)\n",
    "map_of_facilities"
   ]
  },
  {
   "cell_type": "markdown",
   "metadata": {},
   "source": [
    "## Run this cell to get a dropdown list containing the programs that are tracked for these facilities"
   ]
  },
  {
   "cell_type": "code",
   "execution_count": null,
   "metadata": {},
   "outputs": [],
   "source": [
    "# Create a DataSet object for each of the programs we track.  \n",
    "# Initialize each one with the information it needs to do its query\n",
    "# of the database.\n",
    "# Store the DataSet objects in a dictionary with keys being the\n",
    "# friendly names of the program, which will be used in selection\n",
    "# widgets.\n",
    "\n",
    "data_sets = {}\n",
    "ds = DataSet( name='RCRA Violations', idx_field='ID_NUMBER', \n",
    "                table_name='RCRA_VIOLATIONS', echo_type=\"RCRA\",\n",
    "                date_field='DATE_VIOLATION_DETERMINED', date_format='%m/%d/%Y')\n",
    "data_sets[ ds.name ] = ds\n",
    "ds = DataSet( name='RCRA Inspections', idx_field='ID_NUMBER', \n",
    "                table_name='RCRA_EVALUATIONS', echo_type=\"RCRA\",\n",
    "                date_field='EVALUATION_START_DATE', date_format='%m/%d/%Y')\n",
    "data_sets[ ds.name ] = ds\n",
    "ds = DataSet( name='RCRA Enforcements',  echo_type=\"RCRA\",\n",
    "                table_name='RCRA_ENFORCEMENTS', idx_field='ID_NUMBER', \n",
    "                date_field='EVALUATION_START_DATE', date_format='%m/%d/%Y' )\n",
    "data_sets[ ds.name ] = ds\n",
    "# Special sql queries needed for Air Inspections and Air Enforcements\n",
    "my_sql = \"select * from `ICIS_FEC_EPA_INSPECTIONS` where REGISTRY_ID in \"\n",
    "ds = DataSet( name='Air Inspections', echo_type=\"AIR\",\n",
    "                table_name='ICIS_FEC_EPA_INSPECTIONS', idx_field='REGISTRY_ID', \n",
    "                date_field='ACTUAL_END_DATE', date_format='%m/%d/%Y', sql=my_sql )\n",
    "data_sets[ ds.name ] = ds\n",
    "my_sql = \"select * from `CASE_FACILITIES` CF, `CASE_ENFORCEMENTS` CE \" + \\\n",
    "            \" where CE.HQ_DIVISION = 'AIR' and CE.CASE_NUMBER = CF.CASE_NUMBER and \" + \\\n",
    "            \" CF.REGISTRY_ID in \"\n",
    "ds = DataSet( name='Air Enforcements',  echo_type=\"AIR\",\n",
    "                table_name='CASE_ENFORCEMENTS', idx_field='REGISTRY_ID',\n",
    "                date_field='FISCAL_YEAR', date_format='%Y', sql=my_sql )\n",
    "data_sets[ ds.name ] = ds\n",
    "ds = DataSet( name='Air Violations',  echo_type=\"AIR\",\n",
    "                table_name='ICIS-AIR_VIOLATION_HISTORY', idx_field='PGM_SYS_ID', \n",
    "                date_field='HPV_DAYZERO_DATE', date_format='%m-%d-%Y' )\n",
    "data_sets[ ds.name ] = ds\n",
    "ds = DataSet( name='Air Formal Actions', echo_type=\"AIR\",\n",
    "                table_name='ICIS-AIR_FORMAL_ACTIONS', idx_field='PGM_SYS_ID',\n",
    "                date_field='SETTLEMENT_ENTERED_DATE', date_format='%m/%d/%Y' )\n",
    "data_sets[ ds.name ] = ds\n",
    "ds = DataSet( name='Air Compliance', echo_type=\"AIR\",\n",
    "                table_name='ICIS-AIR_FCES_PCES', idx_field='PGM_SYS_ID',\n",
    "                date_field='ACTUAL_END_DATE', date_format='%m-%d-%Y' )\n",
    "data_sets[ ds.name ] = ds\n",
    "ds = DataSet( name='Water Quarterly Violations', echo_type=\"NPDES\",\n",
    "                table_name='NPDES_QNCR_HISTORY', idx_field='NPDES_ID',\n",
    "                date_field='YEARQTR', date_format='%Y' )\n",
    "data_sets[ ds.name ] = ds\n",
    "ds = DataSet( name='Clean Water Inspections', echo_type=\"NPDES\",\n",
    "                table_name='NPDES_INSPECTIONS', idx_field='NPDES_ID',\n",
    "                date_field='ACTUAL_END_DATE', date_format='%m/%d/%Y' )\n",
    "data_sets[ ds.name ] = ds\n",
    "ds = DataSet( name='Clean Water Enforcements', echo_type=\"NPDES\",\n",
    "                table_name='NPDES_FORMAL_ENFORCEMENT_ACTIONS', idx_field='NPDES_ID',\n",
    "                date_field='SETTLEMENT_ENTERED_DATE', date_format='%m/%d/%Y' )\n",
    "data_sets[ ds.name ] = ds\n",
    "ds = DataSet( name='SDWA Site Visits', echo_type=\"SDWA\",\n",
    "                table_name='SDWA_SITE_VISITS', idx_field='PWSID',\n",
    "                date_field='SITE_VISIT_DATE', date_format='%m/%d/%Y' )\n",
    "data_sets[ ds.name ] = ds\n",
    "ds = DataSet( name='SDWA Enforcements', echo_type=\"SDWA\",\n",
    "                table_name='SDWA_ENFORCEMENTS', idx_field='PWSID',\n",
    "                date_field='ENFORCEMENT_DATE', date_format='%m/%d/%Y' )\n",
    "data_sets[ ds.name ] = ds\n",
    "ds = DataSet( name='SDWA Public Water Systems', echo_type=\"SDWA\",\n",
    "                table_name='SDWA_PUB_WATER_SYSTEMS', idx_field='PWSID',\n",
    "                date_field='FISCAL_YEAR', date_format='%Y' )\n",
    "data_sets[ ds.name ] = ds\n",
    "ds = DataSet( name='SDWA Violations', echo_type=\"SDWA\",\n",
    "                table_name='SDWA_VIOLATIONS', idx_field='PWSID',\n",
    "                date_field='FISCAL_YEAR', date_format='%Y' )\n",
    "data_sets[ ds.name ] = ds\n",
    "ds = DataSet( name='SDWA Serious Violators', echo_type=\"SDWA\",\n",
    "                table_name='SDWA_SERIOUS_VIOLATORS', idx_field='PWSID',\n",
    "                date_field='FISCAL_YEAR', date_format='%Y' )\n",
    "data_sets[ ds.name ] = ds\n",
    "ds = DataSet( name='SDWA Return to Compliance', echo_type=\"SDWA\",\n",
    "                table_name='SDWA_RETURN_TO_COMPLIANCE', idx_field='PWSID',\n",
    "                date_field='FISCAL_YEAR', date_format='%Y' )\n",
    "\n",
    "# Only list the data set if it has the correct flag set.\n",
    "data_set_choices = []\n",
    "for k, v in data_sets.items():\n",
    "    if ( v.has_echo_flag( echo_data ) ):\n",
    "        data_set_choices.append( k )\n",
    "\n",
    "# data_set_choices = list( data_sets.keys() )\n",
    "\n",
    "data_set_widget=widgets.Dropdown(\n",
    "    options=list(data_set_choices),\n",
    "    description='Data sets:',\n",
    "    disabled=False,\n",
    ") \n",
    "display(data_set_widget)\n"
   ]
  },
  {
   "cell_type": "markdown",
   "metadata": {},
   "source": [
    "## Run this cell to get the data for the selected program"
   ]
  },
  {
   "cell_type": "code",
   "execution_count": null,
   "metadata": {},
   "outputs": [],
   "source": [
    "program = data_sets[ data_set_widget.value ]\n",
    "\n",
    "ids_string = program.echo_type + '_IDS'\n",
    "ids = list()\n",
    "for index, value in facility[ ids_string ].items():\n",
    "    try:\n",
    "        for this_id in value.split():\n",
    "            ids.append( this_id )\n",
    "    except ( KeyError, AttributeError ) as e:\n",
    "        pass\n",
    "\n",
    "program_data = None\n",
    "# We need to provide a custom sql query and argument for these programs.\n",
    "if ( program.name == \"Air Inspections\" or program.name == \"Air Enforcements\" ):\n",
    "    # The REGISTRY_ID field is the index of the echo_data\n",
    "    # Build a string\n",
    "    registry_ids = facility[facility['AIR_FLAG'] == 'Y'].index.to_list()\n",
    "    program_data = program.get_data( ee_ids=registry_ids )\n",
    "else:\n",
    "    program_data = program.get_data( ee_ids=ids )\n",
    "\n",
    "program_data"
   ]
  },
  {
   "cell_type": "markdown",
   "metadata": {},
   "source": [
    "## This section saves the facility data to your computer.\n",
    "You can return to the dropdown to export additional data files.\n",
    "\n",
    "_Note: When you click on [] in the cell, it may continue to show \\*. That's to be expected! Check your Downloads folder and confirm that the spreadsheet was succesfully exported. Hit the square button (Interrupt Kernel) at the top of the page. You can now choose to export other data sets from the dropdown..._"
   ]
  },
  {
   "cell_type": "code",
   "execution_count": null,
   "metadata": {},
   "outputs": [],
   "source": [
    "filename = prison_widget.value\n",
    "fullpath = filename + '-' + program.name + '.csv'\n",
    "program_data.to_csv( fullpath ) \n",
    "\n",
    "print( \"Wrote \"+filename+\" to the Google Colab 'Files' menu as %s\" %(fullpath))"
   ]
  },
  {
   "cell_type": "code",
   "execution_count": null,
   "metadata": {},
   "outputs": [],
   "source": []
  }
 ],
 "metadata": {
  "colab": {
   "name": "CA Carceral data .ipynb",
   "provenance": []
  },
  "kernelspec": {
   "display_name": "Python 3",
   "language": "python",
   "name": "python3"
  },
  "language_info": {
   "codemirror_mode": {
    "name": "ipython",
    "version": 3
   },
   "file_extension": ".py",
   "mimetype": "text/x-python",
   "name": "python",
   "nbconvert_exporter": "python",
   "pygments_lexer": "ipython3",
   "version": "3.7.6"
  }
 },
 "nbformat": 4,
 "nbformat_minor": 4
}
